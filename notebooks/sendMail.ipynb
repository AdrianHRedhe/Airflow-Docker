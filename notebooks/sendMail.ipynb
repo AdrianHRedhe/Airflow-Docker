{
 "cells": [
  {
   "cell_type": "code",
   "execution_count": 5,
   "metadata": {},
   "outputs": [],
   "source": [
    "import smtplib\n",
    "from email.mime.text import MIMEText\n",
    "from email.mime.multipart import MIMEMultipart"
   ]
  },
  {
   "cell_type": "markdown",
   "metadata": {},
   "source": [
    "Since I also don't have experience of sending email from python\n",
    "This is a small self contained program where I try it out.\n",
    "\n",
    "I made the email account: 1234.airflow.example@gmail.com specifically \n",
    "for this program therefore there are no important passwords or similar\n",
    "given away by the program. \n",
    "\n",
    "If you wish to use the program yourself\n",
    "you can change the recipient email to your own\n"
   ]
  },
  {
   "cell_type": "code",
   "execution_count": 6,
   "metadata": {},
   "outputs": [],
   "source": [
    "\n",
    "def send_email(sender_email, sender_password, recipient_email, subject, message):\n",
    "    # Set up the SMTP server\n",
    "    smtp_server = 'smtp.gmail.com'\n",
    "    smtp_port = 587\n",
    "\n",
    "    # Create a secure connection to the SMTP server\n",
    "    server = smtplib.SMTP(smtp_server, smtp_port)\n",
    "    server.starttls()\n",
    "\n",
    "    # Login to your Gmail account\n",
    "    server.login(sender_email, sender_password)\n",
    "\n",
    "    # Create the email message\n",
    "    email_message = MIMEMultipart()\n",
    "    email_message['From'] = sender_email\n",
    "    email_message['To'] = recipient_email\n",
    "    email_message['Subject'] = subject\n",
    "    email_message.attach(MIMEText(message, 'plain'))\n",
    "\n",
    "    # Send the email\n",
    "    server.send_message(email_message)\n",
    "\n",
    "    # Disconnect from the server\n",
    "    server.quit()"
   ]
  },
  {
   "cell_type": "code",
   "execution_count": 7,
   "metadata": {},
   "outputs": [],
   "source": [
    "# Provide your Gmail credentials and the email details\n",
    "sender_email = '1234.airflow.example@gmail.com'\n",
    "sender_password = 'qtgexzgqsbggydxm'\n",
    "recipient_email = '1234.airflow.example@gmail.com'\n",
    "subject = f'Test email'\n",
    "message = 'This is the content of the email.'"
   ]
  },
  {
   "cell_type": "code",
   "execution_count": 8,
   "metadata": {},
   "outputs": [],
   "source": [
    "# Send the email\n",
    "send_email(sender_email, sender_password, recipient_email, subject, message)"
   ]
  }
 ],
 "metadata": {
  "kernelspec": {
   "display_name": "airflow",
   "language": "python",
   "name": "python3"
  },
  "language_info": {
   "codemirror_mode": {
    "name": "ipython",
    "version": 3
   },
   "file_extension": ".py",
   "mimetype": "text/x-python",
   "name": "python",
   "nbconvert_exporter": "python",
   "pygments_lexer": "ipython3",
   "version": "3.10.12"
  },
  "orig_nbformat": 4
 },
 "nbformat": 4,
 "nbformat_minor": 2
}
